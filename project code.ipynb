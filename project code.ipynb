{
 "cells": [
  {
   "cell_type": "code",
   "execution_count": 2,
   "id": "cc592f2e-8a52-44dd-97f6-134d40821f0e",
   "metadata": {},
   "outputs": [],
   "source": [
    "import pandas as pd\n",
    "import numpy as np"
   ]
  },
  {
   "cell_type": "code",
   "execution_count": 4,
   "id": "802b448f-d3da-44dd-bcdb-a4bba228e0c5",
   "metadata": {},
   "outputs": [],
   "source": [
    "file_path = 'C:\\\\ENTRI\\\\main project\\\\metropt+3+dataset\\\\MetroPT3(AirCompressor).csv'\n",
    "data = pd.read_csv(file_path)"
   ]
  },
  {
   "cell_type": "code",
   "execution_count": 8,
   "id": "2ff1a657-0b36-4d21-a059-fa1e81d00bcf",
   "metadata": {},
   "outputs": [
    {
     "name": "stdout",
     "output_type": "stream",
     "text": [
      "First 5 rows of data:\n",
      "   Unnamed: 0            timestamp    TP2    TP3     H1  DV_pressure  \\\n",
      "0           0  2020-02-01 00:00:00 -0.012  9.358  9.340       -0.024   \n",
      "1          10  2020-02-01 00:00:10 -0.014  9.348  9.332       -0.022   \n",
      "2          20  2020-02-01 00:00:19 -0.012  9.338  9.322       -0.022   \n",
      "3          30  2020-02-01 00:00:29 -0.012  9.328  9.312       -0.022   \n",
      "4          40  2020-02-01 00:00:39 -0.012  9.318  9.302       -0.022   \n",
      "\n",
      "   Reservoirs  Oil_temperature  Motor_current  COMP  DV_eletric  Towers  MPG  \\\n",
      "0       9.358           53.600         0.0400   1.0         0.0     1.0  1.0   \n",
      "1       9.348           53.675         0.0400   1.0         0.0     1.0  1.0   \n",
      "2       9.338           53.600         0.0425   1.0         0.0     1.0  1.0   \n",
      "3       9.328           53.425         0.0400   1.0         0.0     1.0  1.0   \n",
      "4       9.318           53.475         0.0400   1.0         0.0     1.0  1.0   \n",
      "\n",
      "   LPS  Pressure_switch  Oil_level  Caudal_impulses  \n",
      "0  0.0              1.0        1.0              1.0  \n",
      "1  0.0              1.0        1.0              1.0  \n",
      "2  0.0              1.0        1.0              1.0  \n",
      "3  0.0              1.0        1.0              1.0  \n",
      "4  0.0              1.0        1.0              1.0  \n"
     ]
    }
   ],
   "source": [
    "print(\"First 5 rows of data:\")\n",
    "print(data.head())"
   ]
  },
  {
   "cell_type": "code",
   "execution_count": 10,
   "id": "621de90b-e6e8-45d5-8eb3-3ed421da1873",
   "metadata": {},
   "outputs": [
    {
     "name": "stdout",
     "output_type": "stream",
     "text": [
      "\n",
      "Data Info:\n",
      "<class 'pandas.core.frame.DataFrame'>\n",
      "RangeIndex: 1516948 entries, 0 to 1516947\n",
      "Data columns (total 17 columns):\n",
      " #   Column           Non-Null Count    Dtype  \n",
      "---  ------           --------------    -----  \n",
      " 0   Unnamed: 0       1516948 non-null  int64  \n",
      " 1   timestamp        1516948 non-null  object \n",
      " 2   TP2              1516948 non-null  float64\n",
      " 3   TP3              1516948 non-null  float64\n",
      " 4   H1               1516948 non-null  float64\n",
      " 5   DV_pressure      1516948 non-null  float64\n",
      " 6   Reservoirs       1516948 non-null  float64\n",
      " 7   Oil_temperature  1516948 non-null  float64\n",
      " 8   Motor_current    1516948 non-null  float64\n",
      " 9   COMP             1516948 non-null  float64\n",
      " 10  DV_eletric       1516948 non-null  float64\n",
      " 11  Towers           1516948 non-null  float64\n",
      " 12  MPG              1516948 non-null  float64\n",
      " 13  LPS              1516948 non-null  float64\n",
      " 14  Pressure_switch  1516948 non-null  float64\n",
      " 15  Oil_level        1516948 non-null  float64\n",
      " 16  Caudal_impulses  1516948 non-null  float64\n",
      "dtypes: float64(15), int64(1), object(1)\n",
      "memory usage: 196.7+ MB\n",
      "None\n"
     ]
    }
   ],
   "source": [
    "print(\"\\nData Info:\")\n",
    "print(data.info())"
   ]
  },
  {
   "cell_type": "code",
   "execution_count": 12,
   "id": "89dbec05-6357-4024-b6a5-aa36467ec901",
   "metadata": {},
   "outputs": [
    {
     "name": "stdout",
     "output_type": "stream",
     "text": [
      "\n",
      "Summary Statistics:\n",
      "         Unnamed: 0           TP2           TP3            H1   DV_pressure  \\\n",
      "count  1.516948e+06  1.516948e+06  1.516948e+06  1.516948e+06  1.516948e+06   \n",
      "mean   7.584735e+06  1.367826e+00  8.984611e+00  7.568155e+00  5.595619e-02   \n",
      "std    4.379053e+06  3.250930e+00  6.390951e-01  3.333200e+00  3.824015e-01   \n",
      "min    0.000000e+00 -3.200000e-02  7.300000e-01 -3.600000e-02 -3.200000e-02   \n",
      "25%    3.792368e+06 -1.400000e-02  8.492000e+00  8.254000e+00 -2.200000e-02   \n",
      "50%    7.584735e+06 -1.200000e-02  8.960000e+00  8.784000e+00 -2.000000e-02   \n",
      "75%    1.137710e+07 -1.000000e-02  9.492000e+00  9.374000e+00 -1.800000e-02   \n",
      "max    1.516947e+07  1.067600e+01  1.030200e+01  1.028800e+01  9.844000e+00   \n",
      "\n",
      "         Reservoirs  Oil_temperature  Motor_current          COMP  \\\n",
      "count  1.516948e+06     1.516948e+06   1.516948e+06  1.516948e+06   \n",
      "mean   8.985233e+00     6.264418e+01   2.050171e+00  8.369568e-01   \n",
      "std    6.383070e-01     6.516261e+00   2.302053e+00  3.694052e-01   \n",
      "min    7.120000e-01     1.540000e+01   2.000000e-02  0.000000e+00   \n",
      "25%    8.494000e+00     5.777500e+01   4.000000e-02  1.000000e+00   \n",
      "50%    8.960000e+00     6.270000e+01   4.500000e-02  1.000000e+00   \n",
      "75%    9.492000e+00     6.725000e+01   3.807500e+00  1.000000e+00   \n",
      "max    1.030000e+01     8.905000e+01   9.295000e+00  1.000000e+00   \n",
      "\n",
      "         DV_eletric        Towers           MPG           LPS  \\\n",
      "count  1.516948e+06  1.516948e+06  1.516948e+06  1.516948e+06   \n",
      "mean   1.606106e-01  9.198483e-01  8.326640e-01  3.420025e-03   \n",
      "std    3.671716e-01  2.715280e-01  3.732757e-01  5.838091e-02   \n",
      "min    0.000000e+00  0.000000e+00  0.000000e+00  0.000000e+00   \n",
      "25%    0.000000e+00  1.000000e+00  1.000000e+00  0.000000e+00   \n",
      "50%    0.000000e+00  1.000000e+00  1.000000e+00  0.000000e+00   \n",
      "75%    0.000000e+00  1.000000e+00  1.000000e+00  0.000000e+00   \n",
      "max    1.000000e+00  1.000000e+00  1.000000e+00  1.000000e+00   \n",
      "\n",
      "       Pressure_switch     Oil_level  Caudal_impulses  \n",
      "count     1.516948e+06  1.516948e+06     1.516948e+06  \n",
      "mean      9.914368e-01  9.041556e-01     9.371066e-01  \n",
      "std       9.214078e-02  2.943779e-01     2.427712e-01  \n",
      "min       0.000000e+00  0.000000e+00     0.000000e+00  \n",
      "25%       1.000000e+00  1.000000e+00     1.000000e+00  \n",
      "50%       1.000000e+00  1.000000e+00     1.000000e+00  \n",
      "75%       1.000000e+00  1.000000e+00     1.000000e+00  \n",
      "max       1.000000e+00  1.000000e+00     1.000000e+00  \n"
     ]
    }
   ],
   "source": [
    "print(\"\\nSummary Statistics:\")\n",
    "print(data.describe())"
   ]
  },
  {
   "cell_type": "code",
   "execution_count": 14,
   "id": "96323220-3325-44a3-b0f4-9532a0034463",
   "metadata": {},
   "outputs": [],
   "source": [
    "data = data.drop(columns=['Unnamed: 0'])"
   ]
  },
  {
   "cell_type": "code",
   "execution_count": 16,
   "id": "2af69b24-639f-4c2a-874e-b09d550f9e7e",
   "metadata": {},
   "outputs": [
    {
     "name": "stdout",
     "output_type": "stream",
     "text": [
      "\n",
      "Data Info:\n",
      "<class 'pandas.core.frame.DataFrame'>\n",
      "RangeIndex: 1516948 entries, 0 to 1516947\n",
      "Data columns (total 16 columns):\n",
      " #   Column           Non-Null Count    Dtype  \n",
      "---  ------           --------------    -----  \n",
      " 0   timestamp        1516948 non-null  object \n",
      " 1   TP2              1516948 non-null  float64\n",
      " 2   TP3              1516948 non-null  float64\n",
      " 3   H1               1516948 non-null  float64\n",
      " 4   DV_pressure      1516948 non-null  float64\n",
      " 5   Reservoirs       1516948 non-null  float64\n",
      " 6   Oil_temperature  1516948 non-null  float64\n",
      " 7   Motor_current    1516948 non-null  float64\n",
      " 8   COMP             1516948 non-null  float64\n",
      " 9   DV_eletric       1516948 non-null  float64\n",
      " 10  Towers           1516948 non-null  float64\n",
      " 11  MPG              1516948 non-null  float64\n",
      " 12  LPS              1516948 non-null  float64\n",
      " 13  Pressure_switch  1516948 non-null  float64\n",
      " 14  Oil_level        1516948 non-null  float64\n",
      " 15  Caudal_impulses  1516948 non-null  float64\n",
      "dtypes: float64(15), object(1)\n",
      "memory usage: 185.2+ MB\n",
      "None\n"
     ]
    }
   ],
   "source": [
    "print(\"\\nData Info:\")\n",
    "print(data.info())"
   ]
  },
  {
   "cell_type": "code",
   "execution_count": 18,
   "id": "e524d8eb-7220-4fb3-aa66-42dcbf8a3e5d",
   "metadata": {},
   "outputs": [],
   "source": [
    "data['timestamp'] = pd.to_datetime(data['timestamp'])"
   ]
  },
  {
   "cell_type": "code",
   "execution_count": 20,
   "id": "16c7a1b3-3b3d-47af-9e85-fa7fa43237ba",
   "metadata": {},
   "outputs": [
    {
     "name": "stdout",
     "output_type": "stream",
     "text": [
      "<class 'pandas.core.frame.DataFrame'>\n",
      "RangeIndex: 1516948 entries, 0 to 1516947\n",
      "Data columns (total 16 columns):\n",
      " #   Column           Non-Null Count    Dtype         \n",
      "---  ------           --------------    -----         \n",
      " 0   timestamp        1516948 non-null  datetime64[ns]\n",
      " 1   TP2              1516948 non-null  float64       \n",
      " 2   TP3              1516948 non-null  float64       \n",
      " 3   H1               1516948 non-null  float64       \n",
      " 4   DV_pressure      1516948 non-null  float64       \n",
      " 5   Reservoirs       1516948 non-null  float64       \n",
      " 6   Oil_temperature  1516948 non-null  float64       \n",
      " 7   Motor_current    1516948 non-null  float64       \n",
      " 8   COMP             1516948 non-null  float64       \n",
      " 9   DV_eletric       1516948 non-null  float64       \n",
      " 10  Towers           1516948 non-null  float64       \n",
      " 11  MPG              1516948 non-null  float64       \n",
      " 12  LPS              1516948 non-null  float64       \n",
      " 13  Pressure_switch  1516948 non-null  float64       \n",
      " 14  Oil_level        1516948 non-null  float64       \n",
      " 15  Caudal_impulses  1516948 non-null  float64       \n",
      "dtypes: datetime64[ns](1), float64(15)\n",
      "memory usage: 185.2 MB\n",
      "None\n"
     ]
    }
   ],
   "source": [
    "print(data.info())"
   ]
  },
  {
   "cell_type": "code",
   "execution_count": 22,
   "id": "bb7d5b7b-a4a1-4e45-be4b-22f21853493a",
   "metadata": {},
   "outputs": [
    {
     "name": "stdout",
     "output_type": "stream",
     "text": [
      "timestamp          0\n",
      "TP2                0\n",
      "TP3                0\n",
      "H1                 0\n",
      "DV_pressure        0\n",
      "Reservoirs         0\n",
      "Oil_temperature    0\n",
      "Motor_current      0\n",
      "COMP               0\n",
      "DV_eletric         0\n",
      "Towers             0\n",
      "MPG                0\n",
      "LPS                0\n",
      "Pressure_switch    0\n",
      "Oil_level          0\n",
      "Caudal_impulses    0\n",
      "dtype: int64\n"
     ]
    }
   ],
   "source": [
    "print(data.isnull().sum())"
   ]
  },
  {
   "cell_type": "code",
   "execution_count": null,
   "id": "1fb88c1f-f383-4c15-baa6-8392ddf4478f",
   "metadata": {},
   "outputs": [],
   "source": []
  }
 ],
 "metadata": {
  "kernelspec": {
   "display_name": "Python 3 (ipykernel)",
   "language": "python",
   "name": "python3"
  },
  "language_info": {
   "codemirror_mode": {
    "name": "ipython",
    "version": 3
   },
   "file_extension": ".py",
   "mimetype": "text/x-python",
   "name": "python",
   "nbconvert_exporter": "python",
   "pygments_lexer": "ipython3",
   "version": "3.12.7"
  }
 },
 "nbformat": 4,
 "nbformat_minor": 5
}
